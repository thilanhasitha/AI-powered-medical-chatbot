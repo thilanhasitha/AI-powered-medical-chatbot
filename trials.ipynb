{
 "cells": [
  {
   "cell_type": "code",
   "execution_count": 1,
   "id": "d708a6c5",
   "metadata": {},
   "outputs": [
    {
     "name": "stdout",
     "output_type": "stream",
     "text": [
      "ok\n"
     ]
    }
   ],
   "source": [
    "print(\"ok\")"
   ]
  },
  {
   "cell_type": "code",
   "execution_count": 6,
   "id": "ee5d7997",
   "metadata": {},
   "outputs": [],
   "source": [
    "from langchain import PromptTemplate\n",
    "from langchain.chains import RetrievalQA\n",
    "from langchain.embeddings import HuggingFaceEmbeddings\n",
    "from langchain.vectorstores import Pinecone\n",
    "from langchain.document_loaders import PyMuPDFLoader,DirectoryLoader\n",
    "from langchain.document_loaders import DirectoryLoader, PyPDFLoader\n",
    "from langchain.text_splitter import RecursiveCharacterTextSplitter\n",
    "from langchain.prompts import PromptTemplate\n",
    "from langchain.llms import CTransformers\n"
   ]
  },
  {
   "cell_type": "code",
   "execution_count": 7,
   "id": "599eafab",
   "metadata": {},
   "outputs": [],
   "source": [
    "PINECONE_API_KEY = \"pcsk_4BRfYd_Ncdg2tRXmJffVSzo1qLodYV6gvxzcdnr5ZraGeJUAM9xEjjYkRo8Ammwh7gpsHX\"\n",
    "PINECONE_API_ENV = \"us-east-1\""
   ]
  },
  {
   "cell_type": "code",
   "execution_count": 8,
   "id": "a4081468",
   "metadata": {},
   "outputs": [],
   "source": [
    "## extract data from pdf"
   ]
  },
  {
   "cell_type": "code",
   "execution_count": 8,
   "id": "cfa761b4",
   "metadata": {},
   "outputs": [],
   "source": [
    "def load_pdf(data):\n",
    "    loader = DirectoryLoader(data,glob='*.pdf',loader_cls=PyPDFLoader)\n",
    "    documents = loader.load()\n",
    "    return documents"
   ]
  },
  {
   "cell_type": "code",
   "execution_count": 9,
   "id": "4584e64f",
   "metadata": {},
   "outputs": [
    {
     "name": "stdout",
     "output_type": "stream",
     "text": [
      "Loaded 356 documents\n",
      "A Treatment \n",
      "Improvement \n",
      "Protocol\n",
      "Medication-Assisted Treatment\n",
      "For Opioid Addiction in \n",
      "Opioid Treatment Programs\n",
      "TIP\n",
      "43\n",
      "U.S. DEPARTMENT OF HEALTH AND HUMAN SERVICES\n",
      "Substance Abuse and Mental Health Services Administration\n",
      "Center for Substance Abuse Treatment\n",
      "www.samhsa.gov\n",
      "MEDICATION-\n",
      "ASSISTED\n",
      "TREATMENT\n"
     ]
    }
   ],
   "source": [
    "extracted_data = load_pdf(\"data/\")\n",
    "print(f\"Loaded {len(extracted_data)} documents\")\n",
    "print(extracted_data[0].page_content[:500])"
   ]
  },
  {
   "cell_type": "code",
   "execution_count": null,
   "id": "1ed5abb1",
   "metadata": {},
   "outputs": [],
   "source": []
  },
  {
   "cell_type": "code",
   "execution_count": null,
   "id": "c782b608",
   "metadata": {},
   "outputs": [],
   "source": []
  },
  {
   "cell_type": "code",
   "execution_count": null,
   "id": "7b8d291c",
   "metadata": {},
   "outputs": [],
   "source": []
  }
 ],
 "metadata": {
  "kernelspec": {
   "display_name": "myenv",
   "language": "python",
   "name": "python3"
  },
  "language_info": {
   "codemirror_mode": {
    "name": "ipython",
    "version": 3
   },
   "file_extension": ".py",
   "mimetype": "text/x-python",
   "name": "python",
   "nbconvert_exporter": "python",
   "pygments_lexer": "ipython3",
   "version": "3.10.18"
  }
 },
 "nbformat": 4,
 "nbformat_minor": 5
}
